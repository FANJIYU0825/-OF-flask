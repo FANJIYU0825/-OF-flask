{
  "nbformat": 4,
  "nbformat_minor": 0,
  "metadata": {
    "kernelspec": {
      "display_name": "Python 3",
      "language": "python",
      "name": "python3"
    },
    "language_info": {
      "codemirror_mode": {
        "name": "ipython",
        "version": 3
      },
      "file_extension": ".py",
      "mimetype": "text/x-python",
      "name": "python",
      "nbconvert_exporter": "python",
      "pygments_lexer": "ipython3",
      "version": "3.7.4"
    },
    "colab": {
      "name": "AUTO APPLY  file.ipynb",
      "provenance": []
    }
  },
  "cells": [
    {
      "cell_type": "markdown",
      "metadata": {
        "id": "C8uU4w2lyw_c",
        "colab_type": "text"
      },
      "source": [
        "使用套件"
      ]
    },
    {
      "cell_type": "code",
      "metadata": {
        "id": "QHv0f7C9yw_f",
        "colab_type": "code",
        "colab": {}
      },
      "source": [
        "from selenium import webdriver\n",
        "from selenium.webdriver.common.keys import Keys\n",
        "from selenium.webdriver.support.ui import Select\n",
        "import time\n",
        "from bs4 import BeautifulSoup\n",
        "import requests as res"
      ],
      "execution_count": 0,
      "outputs": []
    },
    {
      "cell_type": "markdown",
      "metadata": {
        "id": "k2x1KrSnyw_p",
        "colab_type": "text"
      },
      "source": [
        "'''\n",
        "先使用 requests 跟 Bs4 來 找尋 網址LIST \n",
        "然後再放入 Selenium 內爬蟲\n",
        "並且自動投遞履歷\n",
        "未來方向 偵錯以及存入資料庫/比較工作總類\n",
        "'''"
      ]
    },
    {
      "cell_type": "code",
      "metadata": {
        "id": "KVCz1rc7yw_1",
        "colab_type": "code",
        "colab": {
          "base_uri": "https://localhost:8080/",
          "height": 34
        },
        "outputId": "8babffe0-1a76-4f6f-8ca9-eb82427b1db6"
      },
      "source": [
        "a  = str(input('請搜尋想要找尋工作'))\n",
        "\n",
        "headers = {'user-agent': 'Mozilla/1.0 (Macintosh Intel Mac OS X 10_13_4) AppleWebKit/537.36 (KHTML, like Gecko) Chrome/66.0.3359.181 Safari/537.36'}\n",
        "# 查詢的關鍵字\n",
        "my_params = {'ro':'1', # 限定全職的工作，如果不限定則輸入0\n",
        "             'keyword':f'{a}', # 想要查詢的關鍵字\n",
        "             'area':'6001001000', # 限定在台北的工作\n",
        "             'isnew':'30', # 只要最近一個月有更新的過的職缺\n",
        "             'mode':'l'} # 清單的瀏覽模式\n",
        "search = res.get('https://www.104.com.tw/jobs/search/?' , my_params, headers = headers).url"
      ],
      "execution_count": 27,
      "outputs": [
        {
          "output_type": "stream",
          "text": [
            "請搜尋想要找尋工作python\n"
          ],
          "name": "stdout"
        }
      ]
    },
    {
      "cell_type": "markdown",
      "metadata": {
        "id": "9nq77j0A60f5",
        "colab_type": "text"
      },
      "source": [
        "篩選推薦信"
      ]
    },
    {
      "cell_type": "code",
      "metadata": {
        "id": "KqvZNKMy7OFa",
        "colab_type": "code",
        "colab": {
          "base_uri": "https://localhost:8080/",
          "height": 86
        },
        "outputId": "fee2392a-0879-4d56-87ad-67f8469b34eb"
      },
      "source": [
        "print('請選擇 ')\n",
        "print( '1.python ')\n",
        "print( '2.Data')\n",
        "num = int(input())"
      ],
      "execution_count": 40,
      "outputs": [
        {
          "output_type": "stream",
          "text": [
            "請選擇 \n",
            "1.python \n",
            "2.Data\n",
            "1\n"
          ],
          "name": "stdout"
        }
      ]
    },
    {
      "cell_type": "markdown",
      "metadata": {
        "id": "EaU9oPXPyw_z",
        "colab_type": "text"
      },
      "source": [
        "生成搜尋網址"
      ]
    },
    {
      "cell_type": "code",
      "metadata": {
        "id": "XPN0im8O1lNq",
        "colab_type": "code",
        "colab": {}
      },
      "source": [
        "!pip install selenium\n",
        "!apt-get update # to update ubuntu to correctly run apt install\n",
        "!apt install chromium-chromedriver\n",
        "!cp /usr/lib/chromium-browser/chromedriver /usr/bin\n",
        "import sys\n",
        "sys.path.insert(0,'/usr/lib/chromium-browser/chromedriver')\n",
        "# 安裝 selenium"
      ],
      "execution_count": 0,
      "outputs": []
    },
    {
      "cell_type": "code",
      "metadata": {
        "id": "O9jeuI3A0o5z",
        "colab_type": "code",
        "colab": {
          "base_uri": "https://localhost:8080/",
          "height": 723
        },
        "outputId": "70f340f0-d009-46ca-9003-4377dba6fba6"
      },
      "source": [
        "from selenium import webdriver\n",
        "from selenium.webdriver.common.keys import Keys\n",
        "from selenium.webdriver.support.ui import Select\n",
        "chrome_options = webdriver.ChromeOptions()\n",
        "chrome_options.add_argument('--headless')\n",
        "chrome_options.add_argument('--no-sandbox')\n",
        "chrome_options.add_argument('--disable-dev-shm-usage')\n",
        "driver = webdriver.Chrome('chromedriver',chrome_options=chrome_options)\n",
        "driver.get(search)\n",
        "# 網頁的設計方式是滑動到下方時，會自動加載新資料，在這裡透過程式送出Java語法幫我們執行「滑到下方」的動作\n",
        "for i in range(20): \n",
        "    driver.execute_script('window.scrollTo(0, document.body.scrollHeight);')\n",
        "    time.sleep(0.6)\n",
        "    \n",
        "# 自動加載只會加載15次，超過之後必須要點選「手動載入」的按鈕才會繼續載入新資料（可能是防止爬蟲）\n",
        "k = 1\n",
        "while k != 0:\n",
        "    try:\n",
        "        # 手動載入新資料之後會出現新的more page，舊的就無法再使用，所以要使用最後一個物件\n",
        "        driver.find_elements_by_class_name(\"js-more-page\",)[-1].click() \n",
        "        # 如果真的找不到，也可以直接找中文!\n",
        "        # driver.find_element_by_xpath(\"//*[contains(text(),'手動載入')]\").click()\n",
        "        print('Click 手動載入，' + '載入第' + str(15 + k) + '頁')\n",
        "        k = k+1\n",
        "        time.sleep(1) # 時間設定太短的話，來不及載入新資料就會跳錯誤\n",
        "    except:\n",
        "        k = 0\n",
        "        print('No more Job')\n",
        "\n",
        "# 透過BeautifulSoup解析資料\n",
        "soup = BeautifulSoup(driver.page_source, 'html.parser')\n",
        "List = soup.findAll('a',{'class':'js-job-link'})\n",
        "print('共有 ' + str(len(List)) + ' 筆資料')"
      ],
      "execution_count": 29,
      "outputs": [
        {
          "output_type": "stream",
          "text": [
            "/usr/local/lib/python3.6/dist-packages/ipykernel_launcher.py:8: DeprecationWarning: use options instead of chrome_options\n",
            "  \n"
          ],
          "name": "stderr"
        },
        {
          "output_type": "stream",
          "text": [
            "Click 手動載入，載入第16頁\n",
            "Click 手動載入，載入第17頁\n",
            "Click 手動載入，載入第18頁\n",
            "Click 手動載入，載入第19頁\n",
            "Click 手動載入，載入第20頁\n",
            "Click 手動載入，載入第21頁\n",
            "Click 手動載入，載入第22頁\n",
            "Click 手動載入，載入第23頁\n",
            "Click 手動載入，載入第24頁\n",
            "Click 手動載入，載入第25頁\n",
            "Click 手動載入，載入第26頁\n",
            "Click 手動載入，載入第27頁\n",
            "Click 手動載入，載入第28頁\n",
            "Click 手動載入，載入第29頁\n",
            "Click 手動載入，載入第30頁\n",
            "Click 手動載入，載入第31頁\n",
            "Click 手動載入，載入第32頁\n",
            "Click 手動載入，載入第33頁\n",
            "Click 手動載入，載入第34頁\n",
            "Click 手動載入，載入第35頁\n",
            "Click 手動載入，載入第36頁\n",
            "Click 手動載入，載入第37頁\n",
            "Click 手動載入，載入第38頁\n",
            "Click 手動載入，載入第39頁\n",
            "Click 手動載入，載入第40頁\n",
            "Click 手動載入，載入第41頁\n",
            "Click 手動載入，載入第42頁\n",
            "Click 手動載入，載入第43頁\n",
            "Click 手動載入，載入第44頁\n",
            "Click 手動載入，載入第45頁\n",
            "Click 手動載入，載入第46頁\n",
            "Click 手動載入，載入第47頁\n",
            "Click 手動載入，載入第48頁\n",
            "Click 手動載入，載入第49頁\n",
            "Click 手動載入，載入第50頁\n",
            "Click 手動載入，載入第51頁\n",
            "Click 手動載入，載入第52頁\n",
            "No more Job\n",
            "共有 1538 筆資料\n"
          ],
          "name": "stdout"
        }
      ]
    },
    {
      "cell_type": "markdown",
      "metadata": {
        "id": "QLQbIQxGyw_8",
        "colab_type": "text"
      },
      "source": [
        "找出網址list"
      ]
    },
    {
      "cell_type": "code",
      "metadata": {
        "id": "8YbQxBH1yw_9",
        "colab_type": "code",
        "colab": {}
      },
      "source": [
        "#搜尋需要資料 \n",
        "select_data = []\n",
        "for i in range (len(List)):\n",
        "  \n",
        "  data = List[i]\n",
        "  if data['title'].find(a) == -1:\n",
        "    \"data not here\"\n",
        "  else:\n",
        "      select_data.append(data)"
      ],
      "execution_count": 0,
      "outputs": []
    },
    {
      "cell_type": "code",
      "metadata": {
        "id": "PVmxLphU39KN",
        "colab_type": "code",
        "colab": {
          "base_uri": "https://localhost:8080/",
          "height": 123
        },
        "outputId": "7de87c0d-6c79-4583-c0bf-44698344c710"
      },
      "source": [
        "select_data"
      ],
      "execution_count": 32,
      "outputs": [
        {
          "output_type": "execute_result",
          "data": {
            "text/plain": [
              "[<a class=\"js-job-link \" href=\"//www.104.com.tw/job/6gls5?jobsource=jolist_c_relevance\" target=\"_blank\" title=\"python 後端工程師\"><em class=\"b-txt--highlight\">python</em> 後端工程師</a>,\n",
              " <a class=\"js-job-link \" href=\"//www.104.com.tw/job/5sdnl?jobsource=jolist_c_relevance\" target=\"_blank\" title=\"網站後台開發工程師-python\">網站後台開發工程師-<em class=\"b-txt--highlight\">python</em></a>,\n",
              " <a class=\"js-job-link \" href=\"//www.104.com.tw/job/4mfzt?jobsource=jolist_c_relevance\" target=\"_blank\" title=\"資深後端系統工程師 (python)\">資深後端系統工程師 (<em class=\"b-txt--highlight\">python</em>)</a>,\n",
              " <a class=\"js-job-link\" href=\"//www.104.com.tw/job/3klrz?jobsource=jolist_c_relevance\" target=\"_blank\" title=\"python工程師\"><em class=\"b-txt--highlight\">python</em>工程師</a>,\n",
              " <a class=\"js-job-link\" href=\"//www.104.com.tw/job/6xglu?jobsource=jolist_c_relevance\" target=\"_blank\" title=\"python工程師\"><em class=\"b-txt--highlight\">python</em>工程師</a>]"
            ]
          },
          "metadata": {
            "tags": []
          },
          "execution_count": 32
        }
      ]
    },
    {
      "cell_type": "markdown",
      "metadata": {
        "id": "d7ykO7LKyxAF",
        "colab_type": "text"
      },
      "source": [
        "把網址丟入  selenium"
      ]
    },
    {
      "cell_type": "code",
      "metadata": {
        "id": "OpcwhUEJ_MSd",
        "colab_type": "code",
        "colab": {}
      },
      "source": [
        ""
      ],
      "execution_count": 0,
      "outputs": []
    },
    {
      "cell_type": "code",
      "metadata": {
        "id": "Z2-lFeNsyxAW",
        "colab_type": "code",
        "colab": {},
        "cellView": "form"
      },
      "source": [
        "# @title reply_reume(data,user,password)\n",
        "def reply_reume(data):\n",
        "\n",
        "    chrome_options = webdriver.ChromeOptions()\n",
        "    chrome_options.add_argument('--headless')\n",
        "    chrome_options.add_argument('--no-sandbox')\n",
        "    chrome_options.add_argument('--disable-dev-shm-usage')\n",
        "    driver = webdriver.Chrome('chromedriver',chrome_options=chrome_options)\n",
        "    driver.get(data)\n",
        "    driver.find_element_by_xpath(\"//*[text()='登入']\").click()\n",
        "    window_1=driver.current_window_handle\n",
        "    windows=driver.window_handles\n",
        "    print(windows)  #輸入控制代碼集合\n",
        "    for current_window in windows:   #切換視窗\n",
        "        if current_window != window_1:\n",
        "            driver.switch_to.window(current_window)\n",
        "        driver.find_element_by_xpath(\".//*[@id='username']\").send_keys(username)\n",
        "    \n",
        "    driver.find_element_by_xpath(\".//*[@id='password']\").send_keys(passWord)\n",
        "    time.sleep(1)#網頁仔入中\n",
        "    \n",
        "\n",
        "    driver.find_element_by_xpath(\".//*[@id='submitBtn']\").send_keys(Keys.ENTER)\n",
        "    time.sleep(3)#網頁仔入中\n",
        "    #wait ajax loading\n",
        "    print('Wed loading')\n",
        "    i=0\n",
        "    while 1:\n",
        "      start = time.clock()\n",
        "      try:\n",
        "          \n",
        "          no_re_apply = driver.find_element_by_xpath(\".//*[@class='d-inline-block border-right pr-2 align-middle']\")\n",
        "          print('aready sumit')\n",
        "          driver.quit()\n",
        "          continue\n",
        "      except:\n",
        "          driver.find_element_by_xpath(\".//*[@class='btn btn-sm btn-has-icon apply-button__button btn-secondary']\").send_keys(Keys.ENTER)\n",
        "          time.sleep(3)\n",
        "          pass\n",
        "    i=0\n",
        "    while 1:\n",
        "        start = time.clock()\n",
        " \n",
        "        try:\n",
        "            \n",
        "            driver.find_element_by_xpath('//input[@id=\"resumeList0\"]').click()\n",
        "            \n",
        "            end=time.clock()\n",
        "            break\n",
        "        except:\n",
        "            \n",
        "            print (\"履歷元素找不到歐!\")\n",
        "            i+=1\n",
        "            if i ==10:\n",
        "                print('aready sumit')\n",
        "                # driver.find_element_by_xpath('//input[@value=\"取消關閉\"]').submit()\n",
        "                driver.quit()\n",
        "                break\n",
        "            end=time.clock()\n",
        "    print ('waste_Time：'+str(end-start))\n",
        "    \n",
        "    # driver.find_element_by_xpath('//input[@id=\"resumeList0\"]').click()\n",
        "    \n",
        "    i=0\n",
        "    while 1:\n",
        "        start = time.clock()\n",
        " \n",
        "        try:\n",
        "            \n",
        "            select = Select(driver.find_element_by_name('recommendation')) \n",
        "            select.select_by_index(num)\n",
        "            \n",
        "            end=time.clock()\n",
        "            break\n",
        "        except:\n",
        "            \n",
        "            print (\"履歷元素找不到歐!\")\n",
        "            i+=1\n",
        "            if i ==10:\n",
        "                print('aready sumit')\n",
        "                # driver.find_element_by_xpath('//input[@value=\"取消關閉\"]').submit()\n",
        "                driver.quit()\n",
        "                break\n",
        "            end=time.clock()\n",
        "    print ('waste_Time：'+str(end-start))\n",
        "    \n",
        "    while 1:\n",
        "        start = time.clock()\n",
        "        try:\n",
        "            \n",
        "            driver.find_element_by_xpath('//input[@id=\"btSend\"]').click()\n",
        "            print ('已定位到元素')\n",
        "            end=time.clock()\n",
        "            driver.quit()\n",
        "            break\n",
        "        except:\n",
        "            print (\"投遞按鈕!\")\n",
        "            \n",
        "            i+=1\n",
        "            if i ==5:\n",
        "                    print('找不到歐')\n",
        "                    \n",
        "                    end=time.clock()\n",
        "                    break\n",
        "        break\n",
        "    \n",
        "    print ('定位耗费时间：'+str(end-start))"
      ],
      "execution_count": 0,
      "outputs": []
    },
    {
      "cell_type": "markdown",
      "metadata": {
        "id": "MZeQgz5RyxAd",
        "colab_type": "text"
      },
      "source": [
        "開始投遞"
      ]
    },
    {
      "cell_type": "code",
      "metadata": {
        "id": "o7nnl3SOyxAw",
        "colab_type": "code",
        "colab": {}
      },
      "source": [
        "for data in select_data:\n",
        "  data = 'https:'+str(data['href']) \n",
        "  reply_reume(data) "
      ],
      "execution_count": 0,
      "outputs": []
    }
  ]
}
