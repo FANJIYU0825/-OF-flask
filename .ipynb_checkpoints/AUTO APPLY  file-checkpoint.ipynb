{
 "cells": [
  {
   "cell_type": "markdown",
   "metadata": {},
   "source": [
    "使用套件"
   ]
  },
  {
   "cell_type": "code",
   "execution_count": null,
   "metadata": {},
   "outputs": [],
   "source": [
    "from selenium import webdriver\n",
    "from selenium.webdriver.common.keys import Keys\n",
    "import time\n",
    "from bs4 import BeautifulSoup\n",
    "import requests as re"
   ]
  },
  {
   "cell_type": "markdown",
   "metadata": {},
   "source": [
    "'''\n",
    "先使用 requests 跟 Bs4 來 找尋 網址LIST \n",
    "然後再放入 Selenium 內爬蟲\n",
    "並且自動投遞履歷\n",
    "未來方向 偵錯以及存入資料庫/比較工作總類\n",
    "'''"
   ]
  },
  {
   "cell_type": "code",
   "execution_count": null,
   "metadata": {},
   "outputs": [],
   "source": [
    "a  = str(input('請搜尋想要找尋工作'))\n",
    "page = 1\n",
    "headers = {'user-agent': 'Mozilla/1.0 (Macintosh Intel Mac OS X 10_13_4) AppleWebKit/537.36 (KHTML, like Gecko) Chrome/66.0.3359.181 Safari/537.36'}"
   ]
  },
  {
   "cell_type": "markdown",
   "metadata": {},
   "source": [
    "生成搜尋網址"
   ]
  },
  {
   "cell_type": "code",
   "execution_count": null,
   "metadata": {},
   "outputs": [],
   "source": [
    "search=re.get(f\"https://www.104.com.tw/jobs/search/?keyword={a}&order=2&jobsource=2019indexpoc&ro=0\",headers)\n",
    "# search=re.get(\"https://www.104.com.tw/job/6fjk7?jobsource=n_my104_search_h\",headers)\n",
    "\n",
    "search.encoding = 'utf-8'\n",
    "soup = BeautifulSoup(search.text,'lxml')\n",
    "\n",
    "jobap_links = soup.select('h2 > a')\n",
    "a = jobap_links.text\n",
    "print(a)"
   ]
  },
  {
   "cell_type": "markdown",
   "metadata": {},
   "source": [
    "找出網址list"
   ]
  },
  {
   "cell_type": "code",
   "execution_count": null,
   "metadata": {},
   "outputs": [],
   "source": [
    "for jobap_link in jobap_links:\n",
    "    print(jobap_link.text)\n",
    "    apply_page = jobap_link.get('href')\n",
    "    apply_pages = 'https:'+apply_page\n",
    "    print(apply_pages)"
   ]
  },
  {
   "cell_type": "markdown",
   "metadata": {},
   "source": [
    "把網址丟入  selenium"
   ]
  },
  {
   "cell_type": "code",
   "execution_count": null,
   "metadata": {},
   "outputs": [],
   "source": [
    "    driver = webdriver.Chrome()\n",
    "    driver.get(apply_pages)"
   ]
  },
  {
   "cell_type": "code",
   "execution_count": null,
   "metadata": {},
   "outputs": [],
   "source": [
    "#運用104的data base 幫我確認 避免 重複投遞"
   ]
  },
  {
   "cell_type": "code",
   "execution_count": null,
   "metadata": {},
   "outputs": [],
   "source": [
    "\n",
    "    \n",
    "    driver.find_element_by_xpath(\"//*[text()='登入']\").click()\n",
    "    window_1=driver.current_window_handle\n",
    "    windows=driver.window_handles\n",
    "    print(windows)  #輸入控制代碼集合\n",
    "    for current_window in windows:   #切換視窗\n",
    "        if current_window != window_1:\n",
    "            driver.switch_to.window(current_window)"
   ]
  },
  {
   "cell_type": "markdown",
   "metadata": {},
   "source": [
    "開始投遞"
   ]
  },
  {
   "cell_type": "code",
   "execution_count": null,
   "metadata": {},
   "outputs": [],
   "source": [
    "    driver.find_element_by_xpath(\".//*[@id='username']\").send_keys(username)\n",
    "    \n",
    "    driver.find_element_by_xpath(\".//*[@id='password']\").send_keys(passWord)\n",
    "    time.sleep(1)#網頁仔入中\n",
    "    \n",
    "\n",
    "    driver.find_element_by_xpath(\".//*[@id='submitBtn']\").send_keys(Keys.ENTER)\n",
    "    time.sleep(3)#網頁仔入中\n",
    "    #wait ajax loading\n",
    "    print('Wed loading')\n",
    "    \n",
    "    try:\n",
    "        no_re_apply = driver.find_element_by_xpath(\".//*[@class='d-inline-block border-right pr-2 align-middle']\")\n",
    "        print('aready sumit')\n",
    "        driver.quit()\n",
    "        continue\n",
    "    except:\n",
    "        driver.find_element_by_xpath(\".//*[@class='btn btn-sm btn-has-icon apply-button__button btn-secondary']\").send_keys(Keys.ENTER)\n",
    "        time.sleep(3)\n",
    "        pass"
   ]
  },
  {
   "cell_type": "markdown",
   "metadata": {},
   "source": [
    "AJAX 載入 等待"
   ]
  },
  {
   "cell_type": "code",
   "execution_count": null,
   "metadata": {},
   "outputs": [],
   "source": [
    "i=0\n",
    "    while 1:\n",
    "        start = time.clock()\n",
    " \n",
    "        try:\n",
    "            \n",
    "            driver.find_element_by_xpath('//input[@id=\"resumeList1\"]').click()\n",
    "            \n",
    "            end=time.clock()\n",
    "            break\n",
    "        except:\n",
    "            \n",
    "            print (\"履歷元素找不到歐!\")\n",
    "            i+=1\n",
    "            if i ==10:\n",
    "                print('aready sumit')\n",
    "                # driver.find_element_by_xpath('//input[@value=\"取消關閉\"]').submit()\n",
    "                driver.quit()\n",
    "                break\n",
    "            end=time.clock()\n",
    "    print ('waste_Time：'+str(end-start))\n",
    "\n",
    "    # driver.find_element_by_xpath('//input[@id=\"resumeList0\"]').click()\n",
    "\n",
    "    while 1:\n",
    "        start = time.clock()\n",
    "        try:\n",
    "            \n",
    "            driver.find_element_by_xpath('//input[@id=\"btSend\"]').click()\n",
    "            print ('已定位到元素')\n",
    "            end=time.clock()\n",
    "            driver.quit()\n",
    "            break\n",
    "        except:\n",
    "            print (\"投遞按鈕!\")\n",
    "            \n",
    "            i+=1\n",
    "            if i ==5:\n",
    "                    print('找不到歐')\n",
    "                    \n",
    "                    end=time.clock()\n",
    "                    break\n",
    "        break\n",
    "    \n",
    "    print ('定位耗费时间：'+str(end-start))"
   ]
  },
  {
   "cell_type": "code",
   "execution_count": null,
   "metadata": {},
   "outputs": [],
   "source": []
  }
 ],
 "metadata": {
  "kernelspec": {
   "display_name": "Python 3",
   "language": "python",
   "name": "python3"
  },
  "language_info": {
   "codemirror_mode": {
    "name": "ipython",
    "version": 3
   },
   "file_extension": ".py",
   "mimetype": "text/x-python",
   "name": "python",
   "nbconvert_exporter": "python",
   "pygments_lexer": "ipython3",
   "version": "3.7.4"
  }
 },
 "nbformat": 4,
 "nbformat_minor": 2
}
